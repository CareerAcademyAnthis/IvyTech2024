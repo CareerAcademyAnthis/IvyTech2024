{
 "cells": [
  {
   "cell_type": "code",
   "execution_count": 1,
   "id": "1082ef69",
   "metadata": {},
   "outputs": [
    {
     "name": "stdout",
     "output_type": "stream",
     "text": [
      "Please input a number between 1 and 10: 3\n",
      "too low\n"
     ]
    }
   ],
   "source": [
    "# 4.1\n",
    "secret = 8\n",
    "guess = int(input(\"Please input a number between 1 and 10: \"))\n",
    "\n",
    "if guess == secret:\n",
    "    print(\"just right\")\n",
    "elif guess > secret:\n",
    "    print(\"too high\")\n",
    "else:\n",
    "    print(\"too low\")"
   ]
  },
  {
   "cell_type": "code",
   "execution_count": 2,
   "id": "4051f60d",
   "metadata": {},
   "outputs": [
    {
     "name": "stdout",
     "output_type": "stream",
     "text": [
      "cherry\n"
     ]
    }
   ],
   "source": [
    "#4.2\n",
    "\n",
    "small = True\n",
    "green = False\n",
    "\n",
    "if small == True and green == True:\n",
    "    print(\"pea\")\n",
    "elif small == True and green == False:\n",
    "    print(\"cherry\")\n",
    "elif small == False and green == True:\n",
    "    print(\"watermelon\")\n",
    "elif small == False and green == False:\n",
    "    print(\"pumpkin\")"
   ]
  },
  {
   "cell_type": "code",
   "execution_count": 3,
   "id": "23fbfc6e",
   "metadata": {},
   "outputs": [
    {
     "name": "stdout",
     "output_type": "stream",
     "text": [
      "When an eel grabs your arm,\n",
      "... And it causes great harm,\n",
      "... That's - a moray!\n",
      "When an eel grabs your arM,\n",
      "... And it causes great harM,\n",
      "... That's - a Moray!\n"
     ]
    }
   ],
   "source": [
    "#5.1\n",
    "song = \"\"\"When an eel grabs your arm,\n",
    "... And it causes great harm,\n",
    "... That's - a moray!\"\"\"\n",
    "\n",
    "print(song)\n",
    "replace_song = song.replace('m', 'M')\n",
    "print(replace_song)"
   ]
  },
  {
   "cell_type": "code",
   "execution_count": 4,
   "id": "330ac3ed",
   "metadata": {},
   "outputs": [
    {
     "name": "stdout",
     "output_type": "stream",
     "text": [
      "We don't serve strings around here. Are you a string? No, I'm a frayed knot.\n",
      "What is said on Father's Day in the forest? 'Pop!' goes the weasel.\n",
      "What makes the sound 'Sis! Boom! Bah!'? No, I'm a frayed knot.\n"
     ]
    }
   ],
   "source": [
    "# 5.2\n",
    "\n",
    "questions = [\n",
    "    \"We don't serve strings around here. Are you a string?\",\n",
    "     \"What is said on Father's Day in the forest?\",\n",
    "    \"What makes the sound 'Sis! Boom! Bah!'?\"\n",
    "]\n",
    "answers = [\n",
    "    \"An exploding sheep.\",\n",
    "    \"No, I'm a frayed knot.\",\n",
    "    \"'Pop!' goes the weasel.\"\n",
    "    ]\n",
    "print(f\"{questions[0]} {answers[1]}\")\n",
    "print(f\"{questions[1]} {answers[2]}\")\n",
    "print(f\"{questions[2]} {answers[1]}\")\n"
   ]
  },
  {
   "cell_type": "code",
   "execution_count": 8,
   "id": "c34dbd1b",
   "metadata": {},
   "outputs": [
    {
     "name": "stdout",
     "output_type": "stream",
     "text": [
      "My kitty cat likes roast beef\n",
      "My kitty cat likes ham\n",
      "My kitty cat fell on his head\n",
      "And now thinks he's a clam\n"
     ]
    }
   ],
   "source": [
    "#5.3\n",
    "\n",
    "print(\"My kitty cat likes %s\" % \"roast beef\")\n",
    "print(\"My kitty cat likes %s\" % \"ham\")\n",
    "print(\"My kitty cat fell on his %s\" % \"head\")\n",
    "print(\"And now thinks he's a %s\" % \"clam\")"
   ]
  },
  {
   "cell_type": "code",
   "execution_count": 9,
   "id": "3dbcc9ed",
   "metadata": {},
   "outputs": [
    {
     "name": "stdout",
     "output_type": "stream",
     "text": [
      "Dear Mr. Smith,\n",
      "\n",
      "Thank you for your letter. We are sorry that our widget\n",
      "exploded in your bathroom. Please note that it should never\n",
      "be used in a bathroom, especially near any Grizzly Bear.\n",
      "\n",
      "Send us your receipt and $9.99 for shipping and handling.\n",
      "We will send you another widget that, in our tests,\n",
      "is 40% less likely to have exploded.\n",
      "\n",
      "Thank you for your support.\n",
      "\n",
      "Sincerely,\n",
      "Donald\n",
      "Explosive Product Representative\n"
     ]
    }
   ],
   "source": [
    "#5.5\n",
    "\n",
    "salutation = \"Mr.\"\n",
    "name = \"Smith\"\n",
    "product = 'widget'\n",
    "verbed = \"exploded\"\n",
    "room = \"bathroom\"\n",
    "animals = \"Grizzly Bear\"\n",
    "amount = \"$9.99\"\n",
    "percent = 40\n",
    "spokesman = \"Donald\"\n",
    "job_title = \"Explosive Product Representative\"\n",
    "\n",
    "form_letter = (f\"\"\"Dear {salutation} {name},\n",
    "\n",
    "Thank you for your letter. We are sorry that our {product}\n",
    "{verbed} in your {room}. Please note that it should never\n",
    "be used in a {room}, especially near any {animals}.\n",
    "\n",
    "Send us your receipt and {amount} for shipping and handling.\n",
    "We will send you another {product} that, in our tests,\n",
    "is {percent}% less likely to have {verbed}.\n",
    "\n",
    "Thank you for your support.\n",
    "\n",
    "Sincerely,\n",
    "{spokesman}\n",
    "{job_title}\"\"\")\n",
    "\n",
    "print(form_letter)\n"
   ]
  },
  {
   "cell_type": "code",
   "execution_count": 13,
   "id": "30f4f20f",
   "metadata": {},
   "outputs": [
    {
     "name": "stdout",
     "output_type": "stream",
     "text": [
      "Ducky McDuckface\n",
      "Gourdy McGourdface\n",
      "Spitzy McSpitzface\n",
      "Jacky McJackface\n",
      "/nDucky McDuckface\n",
      "/nGourdy McGourdface\n",
      "/nSpitzy McSpitzface\n",
      "/nJacky McJackface\n",
      "Ducky McDuckface\n",
      "Gourdy McGourdface\n",
      "Spitzy McSpitzface\n",
      "Jacky McJackface\n"
     ]
    }
   ],
   "source": [
    "# 5.6\n",
    "\n",
    "names = ('Duck', 'Gourd', 'Spitz', 'Jack')\n",
    "\n",
    "for name in names:\n",
    "    winner_name = \"%sy\" % name + \" Mc%sface\" % name\n",
    "    print(winner_name)\n",
    "\n",
    "\n",
    "for name in names:\n",
    "    winner_name = \"{}y Mc{}face\".format(name, name)\n",
    "    print(winner_name)\n",
    "\n",
    "for name in names:\n",
    "    winner_name = f\"{name}y Mc{name}face\"\n",
    "    print(winner_name)"
   ]
  },
  {
   "cell_type": "code",
   "execution_count": 14,
   "id": "6efd3a7a",
   "metadata": {},
   "outputs": [
    {
     "name": "stdout",
     "output_type": "stream",
     "text": [
      "3\n",
      "2\n",
      "1\n",
      "0\n",
      "<generator object <genexpr> at 0x0000018023B5C2B0>\n",
      "3\n",
      "2\n",
      "1\n",
      "0\n"
     ]
    }
   ],
   "source": [
    "# 6.1 Use a for loop to print the values of the list [3, 2, 1, 0]\n",
    "\n",
    "for i in reversed(range(4)):\n",
    "    print(i)\n",
    "\n",
    "list = [3,2,1,0]\n",
    "\n",
    "print(i for i in list)\n",
    "for i in list:\n",
    "    print(i)"
   ]
  },
  {
   "cell_type": "code",
   "execution_count": 15,
   "id": "30292ae8",
   "metadata": {},
   "outputs": [
    {
     "name": "stdout",
     "output_type": "stream",
     "text": [
      "too low\n",
      "too low\n",
      "too low\n",
      "too low\n",
      "too low\n",
      "too low\n",
      "found it\n"
     ]
    }
   ],
   "source": [
    "#6.2\n",
    "\n",
    "guess_me = 7\n",
    "number = 1\n",
    "\n",
    "while number < guess_me:\n",
    "    print(\"too low\")\n",
    "    number += 1\n",
    "    if number == guess_me:\n",
    "        print('found it')\n",
    "    \n",
    "if number > guess_me:\n",
    "    print(\"oops\")\n",
    "\n"
   ]
  },
  {
   "cell_type": "code",
   "execution_count": 16,
   "id": "cceea9ad",
   "metadata": {},
   "outputs": [
    {
     "name": "stdout",
     "output_type": "stream",
     "text": [
      "too low\n",
      "too low\n",
      "too low\n",
      "too low\n",
      "too low\n",
      "too low\n",
      "just right\n"
     ]
    }
   ],
   "source": [
    "# 6.2\n",
    "\n",
    "guess_me = 7\n",
    "number = 1\n",
    "\n",
    "while number != guess_me:\n",
    "    if number < guess_me:\n",
    "        print('too low')\n",
    "        number += 1\n",
    "    else:\n",
    "        print('oops')\n",
    "        break\n",
    "else:\n",
    "    print('just right')\n"
   ]
  },
  {
   "cell_type": "code",
   "execution_count": 17,
   "id": "fd307daf",
   "metadata": {},
   "outputs": [
    {
     "name": "stdout",
     "output_type": "stream",
     "text": [
      "too low\n",
      "too low\n",
      "too low\n",
      "too low\n",
      "too low\n",
      "found it\n"
     ]
    }
   ],
   "source": [
    "# 6.3\n",
    "\n",
    "guess_me = 5\n",
    "\n",
    "for number in range(10):\n",
    "    if number < guess_me:\n",
    "        print(\"too low\")\n",
    "    elif number == guess_me:\n",
    "        print('found it')\n",
    "        break\n",
    "    else:\n",
    "        print('too high')\n",
    "        break\n"
   ]
  },
  {
   "cell_type": "code",
   "execution_count": null,
   "id": "acf06623",
   "metadata": {},
   "outputs": [],
   "source": []
  }
 ],
 "metadata": {
  "kernelspec": {
   "display_name": "Python 3 (ipykernel)",
   "language": "python",
   "name": "python3"
  },
  "language_info": {
   "codemirror_mode": {
    "name": "ipython",
    "version": 3
   },
   "file_extension": ".py",
   "mimetype": "text/x-python",
   "name": "python",
   "nbconvert_exporter": "python",
   "pygments_lexer": "ipython3",
   "version": "3.11.5"
  }
 },
 "nbformat": 4,
 "nbformat_minor": 5
}
