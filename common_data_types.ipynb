{
 "cells": [
  {
   "cell_type": "raw",
   "id": "20a3f0d1-53a6-4e99-aa92-2f136004af03",
   "metadata": {},
   "source": [
    "Boolean\n",
    "Integer\n",
    "Float\n",
    "Complex – ex 3j, 5 + 9j\n",
    "Test string\n"
   ]
  },
  {
   "cell_type": "code",
   "execution_count": 21,
   "id": "1c837c9e-9d7d-4765-b559-4f033157de7d",
   "metadata": {},
   "outputs": [
    {
     "data": {
      "text/plain": [
       "True"
      ]
     },
     "execution_count": 21,
     "metadata": {},
     "output_type": "execute_result"
    }
   ],
   "source": [
    "name = 'Alex'\n",
    "'Alex' == name"
   ]
  },
  {
   "cell_type": "code",
   "execution_count": 25,
   "id": "6437c657-c207-4d57-85a3-ccaa0bf850fc",
   "metadata": {},
   "outputs": [
    {
     "data": {
      "text/plain": [
       "10"
      ]
     },
     "execution_count": 25,
     "metadata": {},
     "output_type": "execute_result"
    }
   ],
   "source": [
    "1+9"
   ]
  },
  {
   "cell_type": "code",
   "execution_count": 27,
   "id": "674f85bd-2f40-482e-90e4-c469bc4916e0",
   "metadata": {},
   "outputs": [
    {
     "data": {
      "text/plain": [
       "569.23"
      ]
     },
     "execution_count": 27,
     "metadata": {},
     "output_type": "execute_result"
    }
   ],
   "source": [
    "569.23"
   ]
  },
  {
   "cell_type": "code",
   "execution_count": 29,
   "id": "22aa8afb-eb82-4e08-b509-b9ec452e1656",
   "metadata": {},
   "outputs": [
    {
     "data": {
      "text/plain": [
       "float"
      ]
     },
     "execution_count": 29,
     "metadata": {},
     "output_type": "execute_result"
    }
   ],
   "source": [
    "type(569.32)"
   ]
  },
  {
   "cell_type": "markdown",
   "id": "fbad9732-46ed-48b0-9939-6586ad8a3538",
   "metadata": {},
   "source": [
    "List       Tuple      Byte\n",
    "ByteArray  Set        Frozen set\n",
    "Dictionary"
   ]
  },
  {
   "cell_type": "code",
   "execution_count": null,
   "id": "e2eed6b4-37fd-483e-98bd-dca0926502c9",
   "metadata": {},
   "outputs": [],
   "source": [
    "list_data_types = [\"list\", \"tuple\", \"byte\", \"byte array\", \"set\", \"frozen set\", \"dictionary\"]"
   ]
  },
  {
   "cell_type": "code",
   "execution_count": null,
   "id": "4cfb5b83-bc7a-4355-822f-67ff286f1062",
   "metadata": {},
   "outputs": [],
   "source": [
    "tuple_data_types = (\"list\", \"tuple\", \"byte\", \"byte array\", \"set\", \"frozen set\", \"dictionary\")"
   ]
  },
  {
   "cell_type": "code",
   "execution_count": null,
   "id": "7321a754-7ccb-4eb0-87db-41007a2a09a6",
   "metadata": {},
   "outputs": [],
   "source": [
    "set_data_types = {\"list\", \"tuple\", \"byte\", \"byte array\", \"set\", \"frozen set\", \"dictionary\"}"
   ]
  },
  {
   "cell_type": "code",
   "execution_count": null,
   "id": "c0e6d5f9-36d9-4ab4-8dd6-89e057fdf39c",
   "metadata": {},
   "outputs": [],
   "source": [
    "dictionary_data_types = {\n",
    "    \"mutable_1\" : \"list\",\n",
    "    \"mutable_2\" : \"set\",\n",
    "    \"mutable_3\" : \"Dictionary\",\n",
    "    \"imutable_1\" : \"tuple\",\n",
    "    \"imutable_2\" : \"string\",\n",
    "    \n",
    "}"
   ]
  }
 ],
 "metadata": {
  "kernelspec": {
   "display_name": "Python 3 (ipykernel)",
   "language": "python",
   "name": "python3"
  },
  "language_info": {
   "codemirror_mode": {
    "name": "ipython",
    "version": 3
   },
   "file_extension": ".py",
   "mimetype": "text/x-python",
   "name": "python",
   "nbconvert_exporter": "python",
   "pygments_lexer": "ipython3",
   "version": "3.12.4"
  }
 },
 "nbformat": 4,
 "nbformat_minor": 5
}
